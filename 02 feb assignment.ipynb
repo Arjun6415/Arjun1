{
 "cells": [
  {
   "cell_type": "code",
   "execution_count": null,
   "id": "f75babbd-2479-41d3-826f-9ace14b61d15",
   "metadata": {},
   "outputs": [],
   "source": [
    "Ans1."
   ]
  },
  {
   "cell_type": "code",
   "execution_count": null,
   "id": "643b1ced-c4c4-487a-aedd-89f3988764e4",
   "metadata": {},
   "outputs": [],
   "source": [
    " \n",
    "The for loop is used when the number of iterations is already known.\n",
    "Example:\n",
    "    n = [1,2,3]\n",
    "    for i in n:\n",
    "        print(i)\n",
    "\n",
    "A loop that executes a single statement or a group of statements for the given true condition.\n",
    "The keyword used to represent this loop is \"while\".\n",
    "A \"while\" loop is used when the number of iterations is unknown.\n",
    "The statement repeats itself till the boolean value becomes false. \n",
    "\n",
    "Example:\n",
    "    i=1\n",
    "    while i<6:\n",
    "        print(i)\n",
    "        i+=1"
   ]
  },
  {
   "cell_type": "code",
   "execution_count": null,
   "id": "b6f0845b-b486-4d67-ae4e-c62934e1a0f3",
   "metadata": {},
   "outputs": [],
   "source": [
    "Ans 2"
   ]
  },
  {
   "cell_type": "code",
   "execution_count": 1,
   "id": "7542523d-f5b5-4c41-8bf8-f134eaa30236",
   "metadata": {},
   "outputs": [
    {
     "data": {
      "text/plain": [
       "55"
      ]
     },
     "execution_count": 1,
     "metadata": {},
     "output_type": "execute_result"
    }
   ],
   "source": [
    "#sum of 10 natural number\n",
    "add = 0\n",
    "for i in range(1,11):\n",
    "    add = add + i\n",
    "add    \n"
   ]
  },
  {
   "cell_type": "code",
   "execution_count": null,
   "id": "d08afac2-8fff-4466-9608-86c99505c546",
   "metadata": {},
   "outputs": [],
   "source": []
  },
  {
   "cell_type": "code",
   "execution_count": 2,
   "id": "f8925dbb-b7c3-41c3-9f3c-7af834b3b1ca",
   "metadata": {},
   "outputs": [
    {
     "data": {
      "text/plain": [
       "3628800"
      ]
     },
     "execution_count": 2,
     "metadata": {},
     "output_type": "execute_result"
    }
   ],
   "source": [
    "#product of 10 natural number\n",
    "product = 1\n",
    "for i in range(1,11):\n",
    "    product=product*i\n",
    "product    "
   ]
  },
  {
   "cell_type": "code",
   "execution_count": null,
   "id": "8a643f9a-dd53-4f81-b7af-1c3ab89e1622",
   "metadata": {},
   "outputs": [],
   "source": []
  },
  {
   "cell_type": "code",
   "execution_count": 3,
   "id": "eb11abdc-e91b-49b3-80a4-b60642fe07a1",
   "metadata": {},
   "outputs": [
    {
     "data": {
      "text/plain": [
       "55"
      ]
     },
     "execution_count": 3,
     "metadata": {},
     "output_type": "execute_result"
    }
   ],
   "source": [
    "#sum of 10 natural number\n",
    "addition = 0\n",
    "i=1\n",
    "while i<=10:\n",
    "    addition = addition + i\n",
    "    i+=1\n",
    "addition    "
   ]
  },
  {
   "cell_type": "code",
   "execution_count": null,
   "id": "b7706217-2342-48a4-85bc-f0bb52479959",
   "metadata": {},
   "outputs": [],
   "source": []
  },
  {
   "cell_type": "code",
   "execution_count": 5,
   "id": "f75ba513-2e5c-44f9-b391-0d48f2ac9dae",
   "metadata": {},
   "outputs": [
    {
     "data": {
      "text/plain": [
       "3628800"
      ]
     },
     "execution_count": 5,
     "metadata": {},
     "output_type": "execute_result"
    }
   ],
   "source": [
    "#product of 10 natural number\n",
    "product1=1\n",
    "i=1\n",
    "while i<=10:\n",
    "    product1 = product1*i\n",
    "    i+=1\n",
    "product1    "
   ]
  },
  {
   "cell_type": "code",
   "execution_count": null,
   "id": "6cc6e887-69d4-44d6-b61f-766c76edd50e",
   "metadata": {},
   "outputs": [],
   "source": [
    "ANS3."
   ]
  },
  {
   "cell_type": "code",
   "execution_count": 7,
   "id": "7e01a69a-be01-4fb2-a5a5-e034cc453ed1",
   "metadata": {},
   "outputs": [
    {
     "name": "stdin",
     "output_type": "stream",
     "text": [
      "enter consumed electricity in units 310\n"
     ]
    },
    {
     "name": "stdout",
     "output_type": "stream",
     "text": [
      "2250.0\n"
     ]
    }
   ],
   "source": [
    "units = int(input(\"enter consumed electricity in units\"))\n",
    "if units <=  100:\n",
    "    electricity_bill = units*4.5 \n",
    "elif units <= 200:\n",
    "    electricity_bill = 100*4.5 + (units - 100)*6\n",
    "elif units <= 300:\n",
    "    electricity_bill = 100*4.5  + 100*6 + (units-200)*10\n",
    "else:\n",
    "    electricity_bill = 100*4.5 + 100*6 + 100*10 + (units-300)*20\n",
    "    \n",
    "print(electricity_bill)    \n",
    "\n",
    "    \n",
    "    "
   ]
  },
  {
   "cell_type": "code",
   "execution_count": null,
   "id": "32048873-8314-45f7-9603-4ca13fed55af",
   "metadata": {},
   "outputs": [],
   "source": [
    "Ans 4."
   ]
  },
  {
   "cell_type": "code",
   "execution_count": null,
   "id": "eefd5a4c-729e-4dcf-98b2-ee59d20eda4b",
   "metadata": {},
   "outputs": [],
   "source": [
    "using for loop"
   ]
  },
  {
   "cell_type": "code",
   "execution_count": 11,
   "id": "2e956313-75be-4d3a-b583-0d26e127ef26",
   "metadata": {},
   "outputs": [
    {
     "name": "stdout",
     "output_type": "stream",
     "text": [
      "[1000, 8000, 27000, 64000, 125000, 216000, 343000, 512000, 729000, 1000000]\n"
     ]
    }
   ],
   "source": [
    "l=list(range(1,101))\n",
    "l1=[]\n",
    "n=1\n",
    "for i in l:\n",
    "    n=i*i*i\n",
    "    if n % 4 == 0 and n % 5 == 0:\n",
    "        l1.append(n)\n",
    "print(l1)        "
   ]
  },
  {
   "cell_type": "code",
   "execution_count": null,
   "id": "0e57b46d-cbad-41a5-8d15-8d4d6cafb494",
   "metadata": {},
   "outputs": [],
   "source": [
    "using while loop"
   ]
  },
  {
   "cell_type": "code",
   "execution_count": 14,
   "id": "c424468a-3776-49a0-8a2f-18557a6427c8",
   "metadata": {},
   "outputs": [
    {
     "name": "stdout",
     "output_type": "stream",
     "text": [
      "[1000, 8000, 27000, 64000, 125000, 216000, 343000, 512000, 729000, 1000000]\n"
     ]
    }
   ],
   "source": [
    "l = list(range(1,101))\n",
    "l2=[]\n",
    "x=1\n",
    "y=0\n",
    "while x <= len(l):\n",
    "    y = x*x*x\n",
    "    x = x+1\n",
    "    if y % 4 == 0 and y % 5 == 0:\n",
    "        l2.append(y)\n",
    "print(l2)"
   ]
  },
  {
   "cell_type": "code",
   "execution_count": null,
   "id": "4fe6c61e-93f1-49b9-b4e2-5e60e23d0ca0",
   "metadata": {},
   "outputs": [],
   "source": [
    "Ans 5."
   ]
  },
  {
   "cell_type": "code",
   "execution_count": 27,
   "id": "d5c29bb8-3a74-411c-9a75-e677f604355b",
   "metadata": {},
   "outputs": [
    {
     "name": "stdout",
     "output_type": "stream",
     "text": [
      "12\n"
     ]
    }
   ],
   "source": [
    "string = \"i want to become a data scientist\" \n",
    "count = 0\n",
    "for i in string:\n",
    "    if i in ['a','e','i','o','u']:\n",
    "        count += 1\n",
    "print(count)        "
   ]
  },
  {
   "cell_type": "code",
   "execution_count": null,
   "id": "312e8084-cde5-40db-8228-c7b0d300c59b",
   "metadata": {},
   "outputs": [],
   "source": []
  }
 ],
 "metadata": {
  "kernelspec": {
   "display_name": "Python 3 (ipykernel)",
   "language": "python",
   "name": "python3"
  },
  "language_info": {
   "codemirror_mode": {
    "name": "ipython",
    "version": 3
   },
   "file_extension": ".py",
   "mimetype": "text/x-python",
   "name": "python",
   "nbconvert_exporter": "python",
   "pygments_lexer": "ipython3",
   "version": "3.10.6"
  }
 },
 "nbformat": 4,
 "nbformat_minor": 5
}
